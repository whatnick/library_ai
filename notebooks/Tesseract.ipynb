{
 "cells": [
  {
   "cell_type": "code",
   "execution_count": 3,
   "source": [
    "try:\n",
    "    from PIL import Image\n",
    "except ImportError:\n",
    "    import Image\n",
    "import pytesseract"
   ],
   "outputs": [],
   "metadata": {}
  },
  {
   "cell_type": "code",
   "execution_count": 7,
   "source": [
    "print(pytesseract.image_to_string(Image.open('../data/books_spine.jpg')))"
   ],
   "outputs": [
    {
     "output_type": "stream",
     "name": "stdout",
     "text": [
      " \n",
      "\n",
      "The Birth of\n",
      "\n",
      " \n",
      "\n",
      "Z\n",
      "f\n",
      "\n",
      "Life of\n",
      "\n",
      "in\n",
      "an Ideq\n",
      "\n",
      "«\n",
      "\n",
      "MARC RANDOLPH [ff\n",
      "\n",
      "and the\n",
      "Ama\n",
      "\n",
      "Gan,\n",
      ">\n",
      "s\n",
      "‘5\n",
      "6\n",
      "D\n",
      "\n",
      "That Will G&Q3y Work\n",
      "\n",
      "  \n",
      "\n",
      " \n",
      "\n",
      "S_IN SCIENCE AND ENGINEERING\n",
      "\n",
      "DATABASE SYSTEM\n",
      "~~ SRRUMBLE Jr & F J SMITH — ee\n",
      "\n",
      "4)\n",
      "\n",
      "ickover\n",
      "\n",
      "i\n",
      "\n",
      "3/\n",
      "| a\n",
      "\n",
      "Tt eal ellie ele eee\n",
      "\n",
      "(cm\n",
      "\f\n"
     ]
    }
   ],
   "metadata": {}
  },
  {
   "cell_type": "code",
   "execution_count": 8,
   "source": [
    "print(pytesseract.image_to_string(Image.open('../data/books_top.jpg')))"
   ],
   "outputs": [
    {
     "output_type": "stream",
     "name": "stdout",
     "text": [
      " \n",
      "\n",
      " \n",
      "\n",
      " \n",
      "\n",
      "&\n",
      "\f\n"
     ]
    }
   ],
   "metadata": {}
  },
  {
   "cell_type": "code",
   "execution_count": 9,
   "source": [
    "print(pytesseract.image_to_string(Image.open('../data/books_oblique.jpg')))"
   ],
   "outputs": [
    {
     "output_type": "stream",
     "name": "stdout",
     "text": [
      " \n",
      "\f\n"
     ]
    }
   ],
   "metadata": {}
  },
  {
   "cell_type": "code",
   "execution_count": null,
   "source": [],
   "outputs": [],
   "metadata": {}
  }
 ],
 "metadata": {
  "orig_nbformat": 4,
  "language_info": {
   "name": "python",
   "version": "3.8.10",
   "mimetype": "text/x-python",
   "codemirror_mode": {
    "name": "ipython",
    "version": 3
   },
   "pygments_lexer": "ipython3",
   "nbconvert_exporter": "python",
   "file_extension": ".py"
  },
  "kernelspec": {
   "name": "python3",
   "display_name": "Python 3.8.10 64-bit (conda)"
  },
  "interpreter": {
   "hash": "0e2cba23159ada89b24e540ece88e9cd4044d496e714e1458321fc922260f78b"
  }
 },
 "nbformat": 4,
 "nbformat_minor": 2
}