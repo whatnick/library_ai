{
 "cells": [
  {
   "cell_type": "code",
   "execution_count": null,
   "source": [],
   "outputs": [],
   "metadata": {}
  }
 ],
 "metadata": {
  "orig_nbformat": 4,
  "language_info": {
   "name": "python",
   "version": "3.8.10"
  },
  "kernelspec": {
   "name": "python3",
   "display_name": "Python 3.8.10 64-bit (conda)"
  },
  "interpreter": {
   "hash": "0e2cba23159ada89b24e540ece88e9cd4044d496e714e1458321fc922260f78b"
  }
 },
 "nbformat": 4,
 "nbformat_minor": 2
}